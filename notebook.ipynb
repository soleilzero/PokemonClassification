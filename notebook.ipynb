{
  "nbformat": 4,
  "nbformat_minor": 0,
  "metadata": {
    "colab": {
      "provenance": [],
      "authorship_tag": "ABX9TyOvsPt783vxKCJ21FqvJnUn"
    },
    "kernelspec": {
      "name": "python3",
      "display_name": "Python 3"
    },
    "language_info": {
      "name": "python"
    }
  },
  "cells": [
    {
      "cell_type": "markdown",
      "source": [
        "# Pokemon Classificator\n",
        "Workflow d'apprentissage supervisé avec scikit-learn"
      ],
      "metadata": {
        "id": "HJiL4KdUgJ3Y"
      }
    },
    {
      "cell_type": "code",
      "source": [
        "import pandas as pd\n",
        "import numpy as np\n",
        "import sklearn as sk\n",
        "import matplotlib.pyplot as plt"
      ],
      "metadata": {
        "id": "6s96o6WGq-9l"
      },
      "execution_count": 22,
      "outputs": []
    },
    {
      "cell_type": "markdown",
      "source": [
        "## Project Statement"
      ],
      "metadata": {
        "id": "phzLxenAlJI7"
      }
    },
    {
      "cell_type": "markdown",
      "source": [
        "### Contexte\n",
        "\n",
        "Les Pokémon sont des créatures aux caractéristiques variées, certaines étant\n",
        "classées comme \"légendaires\" en raison de leur rareté et de leur puissance. L’objectif est\n",
        "d’entraîner un modèle permettant de prédire si un Pokémon est légendaire ou non à\n",
        "partir de ses statistiques."
      ],
      "metadata": {
        "id": "ua5dJT38lHxa"
      }
    },
    {
      "cell_type": "markdown",
      "source": [
        "\n",
        "### Description des données\n",
        "\n",
        "Le jeu de données comprend des informations sur 800\n",
        "Pokémon, incluant des caractéristiques comme les points de vie (HP), l’attaque, la\n",
        "défense, la vitesse, ainsi que des attributs catégoriels (type, génération, etc.).\n",
        "Pistes à explorer :\n",
        "* Sélection des meilleures caractéristiques pour la classification.\n",
        "* Comparaison des performances des modèles (arbres de décision, kNN, réseaux de\n",
        "neurones).\n",
        "* Impact de la normalisation des données sur les résultats.\n",
        "\n",
        "Lien du jeu de données : https://www.kaggle.com/abcsds/pokemon\n"
      ],
      "metadata": {
        "id": "8LD0o0NblmjP"
      }
    },
    {
      "cell_type": "markdown",
      "source": [
        "## Preprocessing"
      ],
      "metadata": {
        "id": "0C-MfzYZ3UJ9"
      }
    },
    {
      "cell_type": "markdown",
      "source": [
        "### Data importation"
      ],
      "metadata": {
        "id": "CZ6ygIoJnIC1"
      }
    },
    {
      "cell_type": "code",
      "source": [
        "pokemon_df = pd.read_csv(\"Pokemon.csv\")\n",
        "print(\"Pokemon data set size:\", pokemon_df.size)\n",
        "pokemon_df.head()"
      ],
      "metadata": {
        "colab": {
          "base_uri": "https://localhost:8080/",
          "height": 278
        },
        "id": "lrd4cyh7nLlD",
        "outputId": "c76b4e78-dadc-44de-8464-8341869930d0"
      },
      "execution_count": 23,
      "outputs": [
        {
          "output_type": "stream",
          "name": "stdout",
          "text": [
            "Pokemon data set size: 10400\n"
          ]
        },
        {
          "output_type": "execute_result",
          "data": {
            "text/plain": [
              "   #                   Name Type 1  Type 2  Total  HP  Attack  Defense  \\\n",
              "0  1              Bulbasaur  Grass  Poison    318  45      49       49   \n",
              "1  2                Ivysaur  Grass  Poison    405  60      62       63   \n",
              "2  3               Venusaur  Grass  Poison    525  80      82       83   \n",
              "3  3  VenusaurMega Venusaur  Grass  Poison    625  80     100      123   \n",
              "4  4             Charmander   Fire     NaN    309  39      52       43   \n",
              "\n",
              "   Sp. Atk  Sp. Def  Speed  Generation  Legendary  \n",
              "0       65       65     45           1      False  \n",
              "1       80       80     60           1      False  \n",
              "2      100      100     80           1      False  \n",
              "3      122      120     80           1      False  \n",
              "4       60       50     65           1      False  "
            ],
            "text/html": [
              "\n",
              "  <div id=\"df-daae2b09-e535-4e21-8387-64f8df7febd2\" class=\"colab-df-container\">\n",
              "    <div>\n",
              "<style scoped>\n",
              "    .dataframe tbody tr th:only-of-type {\n",
              "        vertical-align: middle;\n",
              "    }\n",
              "\n",
              "    .dataframe tbody tr th {\n",
              "        vertical-align: top;\n",
              "    }\n",
              "\n",
              "    .dataframe thead th {\n",
              "        text-align: right;\n",
              "    }\n",
              "</style>\n",
              "<table border=\"1\" class=\"dataframe\">\n",
              "  <thead>\n",
              "    <tr style=\"text-align: right;\">\n",
              "      <th></th>\n",
              "      <th>#</th>\n",
              "      <th>Name</th>\n",
              "      <th>Type 1</th>\n",
              "      <th>Type 2</th>\n",
              "      <th>Total</th>\n",
              "      <th>HP</th>\n",
              "      <th>Attack</th>\n",
              "      <th>Defense</th>\n",
              "      <th>Sp. Atk</th>\n",
              "      <th>Sp. Def</th>\n",
              "      <th>Speed</th>\n",
              "      <th>Generation</th>\n",
              "      <th>Legendary</th>\n",
              "    </tr>\n",
              "  </thead>\n",
              "  <tbody>\n",
              "    <tr>\n",
              "      <th>0</th>\n",
              "      <td>1</td>\n",
              "      <td>Bulbasaur</td>\n",
              "      <td>Grass</td>\n",
              "      <td>Poison</td>\n",
              "      <td>318</td>\n",
              "      <td>45</td>\n",
              "      <td>49</td>\n",
              "      <td>49</td>\n",
              "      <td>65</td>\n",
              "      <td>65</td>\n",
              "      <td>45</td>\n",
              "      <td>1</td>\n",
              "      <td>False</td>\n",
              "    </tr>\n",
              "    <tr>\n",
              "      <th>1</th>\n",
              "      <td>2</td>\n",
              "      <td>Ivysaur</td>\n",
              "      <td>Grass</td>\n",
              "      <td>Poison</td>\n",
              "      <td>405</td>\n",
              "      <td>60</td>\n",
              "      <td>62</td>\n",
              "      <td>63</td>\n",
              "      <td>80</td>\n",
              "      <td>80</td>\n",
              "      <td>60</td>\n",
              "      <td>1</td>\n",
              "      <td>False</td>\n",
              "    </tr>\n",
              "    <tr>\n",
              "      <th>2</th>\n",
              "      <td>3</td>\n",
              "      <td>Venusaur</td>\n",
              "      <td>Grass</td>\n",
              "      <td>Poison</td>\n",
              "      <td>525</td>\n",
              "      <td>80</td>\n",
              "      <td>82</td>\n",
              "      <td>83</td>\n",
              "      <td>100</td>\n",
              "      <td>100</td>\n",
              "      <td>80</td>\n",
              "      <td>1</td>\n",
              "      <td>False</td>\n",
              "    </tr>\n",
              "    <tr>\n",
              "      <th>3</th>\n",
              "      <td>3</td>\n",
              "      <td>VenusaurMega Venusaur</td>\n",
              "      <td>Grass</td>\n",
              "      <td>Poison</td>\n",
              "      <td>625</td>\n",
              "      <td>80</td>\n",
              "      <td>100</td>\n",
              "      <td>123</td>\n",
              "      <td>122</td>\n",
              "      <td>120</td>\n",
              "      <td>80</td>\n",
              "      <td>1</td>\n",
              "      <td>False</td>\n",
              "    </tr>\n",
              "    <tr>\n",
              "      <th>4</th>\n",
              "      <td>4</td>\n",
              "      <td>Charmander</td>\n",
              "      <td>Fire</td>\n",
              "      <td>NaN</td>\n",
              "      <td>309</td>\n",
              "      <td>39</td>\n",
              "      <td>52</td>\n",
              "      <td>43</td>\n",
              "      <td>60</td>\n",
              "      <td>50</td>\n",
              "      <td>65</td>\n",
              "      <td>1</td>\n",
              "      <td>False</td>\n",
              "    </tr>\n",
              "  </tbody>\n",
              "</table>\n",
              "</div>\n",
              "    <div class=\"colab-df-buttons\">\n",
              "\n",
              "  <div class=\"colab-df-container\">\n",
              "    <button class=\"colab-df-convert\" onclick=\"convertToInteractive('df-daae2b09-e535-4e21-8387-64f8df7febd2')\"\n",
              "            title=\"Convert this dataframe to an interactive table.\"\n",
              "            style=\"display:none;\">\n",
              "\n",
              "  <svg xmlns=\"http://www.w3.org/2000/svg\" height=\"24px\" viewBox=\"0 -960 960 960\">\n",
              "    <path d=\"M120-120v-720h720v720H120Zm60-500h600v-160H180v160Zm220 220h160v-160H400v160Zm0 220h160v-160H400v160ZM180-400h160v-160H180v160Zm440 0h160v-160H620v160ZM180-180h160v-160H180v160Zm440 0h160v-160H620v160Z\"/>\n",
              "  </svg>\n",
              "    </button>\n",
              "\n",
              "  <style>\n",
              "    .colab-df-container {\n",
              "      display:flex;\n",
              "      gap: 12px;\n",
              "    }\n",
              "\n",
              "    .colab-df-convert {\n",
              "      background-color: #E8F0FE;\n",
              "      border: none;\n",
              "      border-radius: 50%;\n",
              "      cursor: pointer;\n",
              "      display: none;\n",
              "      fill: #1967D2;\n",
              "      height: 32px;\n",
              "      padding: 0 0 0 0;\n",
              "      width: 32px;\n",
              "    }\n",
              "\n",
              "    .colab-df-convert:hover {\n",
              "      background-color: #E2EBFA;\n",
              "      box-shadow: 0px 1px 2px rgba(60, 64, 67, 0.3), 0px 1px 3px 1px rgba(60, 64, 67, 0.15);\n",
              "      fill: #174EA6;\n",
              "    }\n",
              "\n",
              "    .colab-df-buttons div {\n",
              "      margin-bottom: 4px;\n",
              "    }\n",
              "\n",
              "    [theme=dark] .colab-df-convert {\n",
              "      background-color: #3B4455;\n",
              "      fill: #D2E3FC;\n",
              "    }\n",
              "\n",
              "    [theme=dark] .colab-df-convert:hover {\n",
              "      background-color: #434B5C;\n",
              "      box-shadow: 0px 1px 3px 1px rgba(0, 0, 0, 0.15);\n",
              "      filter: drop-shadow(0px 1px 2px rgba(0, 0, 0, 0.3));\n",
              "      fill: #FFFFFF;\n",
              "    }\n",
              "  </style>\n",
              "\n",
              "    <script>\n",
              "      const buttonEl =\n",
              "        document.querySelector('#df-daae2b09-e535-4e21-8387-64f8df7febd2 button.colab-df-convert');\n",
              "      buttonEl.style.display =\n",
              "        google.colab.kernel.accessAllowed ? 'block' : 'none';\n",
              "\n",
              "      async function convertToInteractive(key) {\n",
              "        const element = document.querySelector('#df-daae2b09-e535-4e21-8387-64f8df7febd2');\n",
              "        const dataTable =\n",
              "          await google.colab.kernel.invokeFunction('convertToInteractive',\n",
              "                                                    [key], {});\n",
              "        if (!dataTable) return;\n",
              "\n",
              "        const docLinkHtml = 'Like what you see? Visit the ' +\n",
              "          '<a target=\"_blank\" href=https://colab.research.google.com/notebooks/data_table.ipynb>data table notebook</a>'\n",
              "          + ' to learn more about interactive tables.';\n",
              "        element.innerHTML = '';\n",
              "        dataTable['output_type'] = 'display_data';\n",
              "        await google.colab.output.renderOutput(dataTable, element);\n",
              "        const docLink = document.createElement('div');\n",
              "        docLink.innerHTML = docLinkHtml;\n",
              "        element.appendChild(docLink);\n",
              "      }\n",
              "    </script>\n",
              "  </div>\n",
              "\n",
              "\n",
              "<div id=\"df-607f3807-8be1-4812-a718-15c6d1c51826\">\n",
              "  <button class=\"colab-df-quickchart\" onclick=\"quickchart('df-607f3807-8be1-4812-a718-15c6d1c51826')\"\n",
              "            title=\"Suggest charts\"\n",
              "            style=\"display:none;\">\n",
              "\n",
              "<svg xmlns=\"http://www.w3.org/2000/svg\" height=\"24px\"viewBox=\"0 0 24 24\"\n",
              "     width=\"24px\">\n",
              "    <g>\n",
              "        <path d=\"M19 3H5c-1.1 0-2 .9-2 2v14c0 1.1.9 2 2 2h14c1.1 0 2-.9 2-2V5c0-1.1-.9-2-2-2zM9 17H7v-7h2v7zm4 0h-2V7h2v10zm4 0h-2v-4h2v4z\"/>\n",
              "    </g>\n",
              "</svg>\n",
              "  </button>\n",
              "\n",
              "<style>\n",
              "  .colab-df-quickchart {\n",
              "      --bg-color: #E8F0FE;\n",
              "      --fill-color: #1967D2;\n",
              "      --hover-bg-color: #E2EBFA;\n",
              "      --hover-fill-color: #174EA6;\n",
              "      --disabled-fill-color: #AAA;\n",
              "      --disabled-bg-color: #DDD;\n",
              "  }\n",
              "\n",
              "  [theme=dark] .colab-df-quickchart {\n",
              "      --bg-color: #3B4455;\n",
              "      --fill-color: #D2E3FC;\n",
              "      --hover-bg-color: #434B5C;\n",
              "      --hover-fill-color: #FFFFFF;\n",
              "      --disabled-bg-color: #3B4455;\n",
              "      --disabled-fill-color: #666;\n",
              "  }\n",
              "\n",
              "  .colab-df-quickchart {\n",
              "    background-color: var(--bg-color);\n",
              "    border: none;\n",
              "    border-radius: 50%;\n",
              "    cursor: pointer;\n",
              "    display: none;\n",
              "    fill: var(--fill-color);\n",
              "    height: 32px;\n",
              "    padding: 0;\n",
              "    width: 32px;\n",
              "  }\n",
              "\n",
              "  .colab-df-quickchart:hover {\n",
              "    background-color: var(--hover-bg-color);\n",
              "    box-shadow: 0 1px 2px rgba(60, 64, 67, 0.3), 0 1px 3px 1px rgba(60, 64, 67, 0.15);\n",
              "    fill: var(--button-hover-fill-color);\n",
              "  }\n",
              "\n",
              "  .colab-df-quickchart-complete:disabled,\n",
              "  .colab-df-quickchart-complete:disabled:hover {\n",
              "    background-color: var(--disabled-bg-color);\n",
              "    fill: var(--disabled-fill-color);\n",
              "    box-shadow: none;\n",
              "  }\n",
              "\n",
              "  .colab-df-spinner {\n",
              "    border: 2px solid var(--fill-color);\n",
              "    border-color: transparent;\n",
              "    border-bottom-color: var(--fill-color);\n",
              "    animation:\n",
              "      spin 1s steps(1) infinite;\n",
              "  }\n",
              "\n",
              "  @keyframes spin {\n",
              "    0% {\n",
              "      border-color: transparent;\n",
              "      border-bottom-color: var(--fill-color);\n",
              "      border-left-color: var(--fill-color);\n",
              "    }\n",
              "    20% {\n",
              "      border-color: transparent;\n",
              "      border-left-color: var(--fill-color);\n",
              "      border-top-color: var(--fill-color);\n",
              "    }\n",
              "    30% {\n",
              "      border-color: transparent;\n",
              "      border-left-color: var(--fill-color);\n",
              "      border-top-color: var(--fill-color);\n",
              "      border-right-color: var(--fill-color);\n",
              "    }\n",
              "    40% {\n",
              "      border-color: transparent;\n",
              "      border-right-color: var(--fill-color);\n",
              "      border-top-color: var(--fill-color);\n",
              "    }\n",
              "    60% {\n",
              "      border-color: transparent;\n",
              "      border-right-color: var(--fill-color);\n",
              "    }\n",
              "    80% {\n",
              "      border-color: transparent;\n",
              "      border-right-color: var(--fill-color);\n",
              "      border-bottom-color: var(--fill-color);\n",
              "    }\n",
              "    90% {\n",
              "      border-color: transparent;\n",
              "      border-bottom-color: var(--fill-color);\n",
              "    }\n",
              "  }\n",
              "</style>\n",
              "\n",
              "  <script>\n",
              "    async function quickchart(key) {\n",
              "      const quickchartButtonEl =\n",
              "        document.querySelector('#' + key + ' button');\n",
              "      quickchartButtonEl.disabled = true;  // To prevent multiple clicks.\n",
              "      quickchartButtonEl.classList.add('colab-df-spinner');\n",
              "      try {\n",
              "        const charts = await google.colab.kernel.invokeFunction(\n",
              "            'suggestCharts', [key], {});\n",
              "      } catch (error) {\n",
              "        console.error('Error during call to suggestCharts:', error);\n",
              "      }\n",
              "      quickchartButtonEl.classList.remove('colab-df-spinner');\n",
              "      quickchartButtonEl.classList.add('colab-df-quickchart-complete');\n",
              "    }\n",
              "    (() => {\n",
              "      let quickchartButtonEl =\n",
              "        document.querySelector('#df-607f3807-8be1-4812-a718-15c6d1c51826 button');\n",
              "      quickchartButtonEl.style.display =\n",
              "        google.colab.kernel.accessAllowed ? 'block' : 'none';\n",
              "    })();\n",
              "  </script>\n",
              "</div>\n",
              "\n",
              "    </div>\n",
              "  </div>\n"
            ],
            "application/vnd.google.colaboratory.intrinsic+json": {
              "type": "dataframe",
              "variable_name": "pokemon_df",
              "summary": "{\n  \"name\": \"pokemon_df\",\n  \"rows\": 800,\n  \"fields\": [\n    {\n      \"column\": \"#\",\n      \"properties\": {\n        \"dtype\": \"number\",\n        \"std\": 208,\n        \"min\": 1,\n        \"max\": 721,\n        \"num_unique_values\": 721,\n        \"samples\": [\n          260,\n          659,\n          78\n        ],\n        \"semantic_type\": \"\",\n        \"description\": \"\"\n      }\n    },\n    {\n      \"column\": \"Name\",\n      \"properties\": {\n        \"dtype\": \"string\",\n        \"num_unique_values\": 800,\n        \"samples\": [\n          \"Hydreigon\",\n          \"Beheeyem\",\n          \"Growlithe\"\n        ],\n        \"semantic_type\": \"\",\n        \"description\": \"\"\n      }\n    },\n    {\n      \"column\": \"Type 1\",\n      \"properties\": {\n        \"dtype\": \"category\",\n        \"num_unique_values\": 18,\n        \"samples\": [\n          \"Grass\",\n          \"Fire\",\n          \"Fairy\"\n        ],\n        \"semantic_type\": \"\",\n        \"description\": \"\"\n      }\n    },\n    {\n      \"column\": \"Type 2\",\n      \"properties\": {\n        \"dtype\": \"category\",\n        \"num_unique_values\": 18,\n        \"samples\": [\n          \"Poison\",\n          \"Flying\",\n          \"Steel\"\n        ],\n        \"semantic_type\": \"\",\n        \"description\": \"\"\n      }\n    },\n    {\n      \"column\": \"Total\",\n      \"properties\": {\n        \"dtype\": \"number\",\n        \"std\": 119,\n        \"min\": 180,\n        \"max\": 780,\n        \"num_unique_values\": 200,\n        \"samples\": [\n          700,\n          349,\n          505\n        ],\n        \"semantic_type\": \"\",\n        \"description\": \"\"\n      }\n    },\n    {\n      \"column\": \"HP\",\n      \"properties\": {\n        \"dtype\": \"number\",\n        \"std\": 25,\n        \"min\": 1,\n        \"max\": 255,\n        \"num_unique_values\": 94,\n        \"samples\": [\n          106,\n          81,\n          170\n        ],\n        \"semantic_type\": \"\",\n        \"description\": \"\"\n      }\n    },\n    {\n      \"column\": \"Attack\",\n      \"properties\": {\n        \"dtype\": \"number\",\n        \"std\": 32,\n        \"min\": 5,\n        \"max\": 190,\n        \"num_unique_values\": 111,\n        \"samples\": [\n          79,\n          63,\n          52\n        ],\n        \"semantic_type\": \"\",\n        \"description\": \"\"\n      }\n    },\n    {\n      \"column\": \"Defense\",\n      \"properties\": {\n        \"dtype\": \"number\",\n        \"std\": 31,\n        \"min\": 5,\n        \"max\": 230,\n        \"num_unique_values\": 103,\n        \"samples\": [\n          20,\n          88,\n          23\n        ],\n        \"semantic_type\": \"\",\n        \"description\": \"\"\n      }\n    },\n    {\n      \"column\": \"Sp. Atk\",\n      \"properties\": {\n        \"dtype\": \"number\",\n        \"std\": 32,\n        \"min\": 10,\n        \"max\": 194,\n        \"num_unique_values\": 105,\n        \"samples\": [\n          58,\n          150,\n          160\n        ],\n        \"semantic_type\": \"\",\n        \"description\": \"\"\n      }\n    },\n    {\n      \"column\": \"Sp. Def\",\n      \"properties\": {\n        \"dtype\": \"number\",\n        \"std\": 27,\n        \"min\": 20,\n        \"max\": 230,\n        \"num_unique_values\": 92,\n        \"samples\": [\n          154,\n          45,\n          44\n        ],\n        \"semantic_type\": \"\",\n        \"description\": \"\"\n      }\n    },\n    {\n      \"column\": \"Speed\",\n      \"properties\": {\n        \"dtype\": \"number\",\n        \"std\": 29,\n        \"min\": 5,\n        \"max\": 180,\n        \"num_unique_values\": 108,\n        \"samples\": [\n          113,\n          50,\n          100\n        ],\n        \"semantic_type\": \"\",\n        \"description\": \"\"\n      }\n    },\n    {\n      \"column\": \"Generation\",\n      \"properties\": {\n        \"dtype\": \"number\",\n        \"std\": 1,\n        \"min\": 1,\n        \"max\": 6,\n        \"num_unique_values\": 6,\n        \"samples\": [\n          1,\n          2,\n          6\n        ],\n        \"semantic_type\": \"\",\n        \"description\": \"\"\n      }\n    },\n    {\n      \"column\": \"Legendary\",\n      \"properties\": {\n        \"dtype\": \"boolean\",\n        \"num_unique_values\": 2,\n        \"samples\": [\n          true,\n          false\n        ],\n        \"semantic_type\": \"\",\n        \"description\": \"\"\n      }\n    }\n  ]\n}"
            }
          },
          "metadata": {},
          "execution_count": 23
        }
      ]
    },
    {
      "cell_type": "code",
      "source": [
        "pokemon_df[\"Type 1\"].unique()"
      ],
      "metadata": {
        "colab": {
          "base_uri": "https://localhost:8080/"
        },
        "id": "qTxt17ycIQKc",
        "outputId": "aef9eb31-759f-488a-bafa-b2abadc06b66"
      },
      "execution_count": 24,
      "outputs": [
        {
          "output_type": "execute_result",
          "data": {
            "text/plain": [
              "array(['Grass', 'Fire', 'Water', 'Bug', 'Normal', 'Poison', 'Electric',\n",
              "       'Ground', 'Fairy', 'Fighting', 'Psychic', 'Rock', 'Ghost', 'Ice',\n",
              "       'Dragon', 'Dark', 'Steel', 'Flying'], dtype=object)"
            ]
          },
          "metadata": {},
          "execution_count": 24
        }
      ]
    },
    {
      "cell_type": "code",
      "source": [
        "pokemon_df[\"Type 2\"].unique()"
      ],
      "metadata": {
        "colab": {
          "base_uri": "https://localhost:8080/"
        },
        "id": "Phv5hvHuIfG6",
        "outputId": "9582f300-ed2d-45f7-8dd1-7904aae3f476"
      },
      "execution_count": 25,
      "outputs": [
        {
          "output_type": "execute_result",
          "data": {
            "text/plain": [
              "array(['Poison', nan, 'Flying', 'Dragon', 'Ground', 'Fairy', 'Grass',\n",
              "       'Fighting', 'Psychic', 'Steel', 'Ice', 'Rock', 'Dark', 'Water',\n",
              "       'Electric', 'Fire', 'Ghost', 'Bug', 'Normal'], dtype=object)"
            ]
          },
          "metadata": {},
          "execution_count": 25
        }
      ]
    },
    {
      "cell_type": "markdown",
      "source": [
        "### Drop or Clean Irrelevant Columns"
      ],
      "metadata": {
        "id": "JzB9YCBK3ZyO"
      }
    },
    {
      "cell_type": "markdown",
      "source": [
        "Drop unnecesary **#** and **Legendary** columns from the explicit variable, as well as the \"Name\" since there are too many different ones\n",
        "\n",
        "\\# (index or ID)\n",
        "Name (string, probably not useful unless you use NLP)"
      ],
      "metadata": {
        "id": "kzmarZrprIvV"
      }
    },
    {
      "cell_type": "code",
      "source": [
        "X = pokemon_df.drop([\"#\", \"Name\", \"Legendary\"], axis=1) # Axis=1 allows to drop columns"
      ],
      "metadata": {
        "id": "BEWDM-eJIo9h"
      },
      "execution_count": 26,
      "outputs": []
    },
    {
      "cell_type": "markdown",
      "source": [
        "### Encode Categorical Features"
      ],
      "metadata": {
        "id": "q2gtY3Xb_sFe"
      }
    },
    {
      "cell_type": "markdown",
      "source": [
        "Use One-Hot Encoding for Type 1 and Type 2.\n",
        "We could use LabelEncoder, but one-hot is safer for tree-based or NN models."
      ],
      "metadata": {
        "id": "vGRNLGd049eI"
      }
    },
    {
      "cell_type": "code",
      "source": [
        "X = pd.get_dummies(X)"
      ],
      "metadata": {
        "id": "zBzYq7mg491a"
      },
      "execution_count": 27,
      "outputs": []
    },
    {
      "cell_type": "markdown",
      "source": [
        "These are the resulting columns:"
      ],
      "metadata": {
        "id": "kwgL1fXU5pLF"
      }
    },
    {
      "cell_type": "code",
      "source": [
        "X.columns"
      ],
      "metadata": {
        "colab": {
          "base_uri": "https://localhost:8080/"
        },
        "id": "MlWJc27Mq_l-",
        "outputId": "e6fdc3d5-230f-4d8f-c943-8c965877d90c"
      },
      "execution_count": 28,
      "outputs": [
        {
          "output_type": "execute_result",
          "data": {
            "text/plain": [
              "Index(['Total', 'HP', 'Attack', 'Defense', 'Sp. Atk', 'Sp. Def', 'Speed',\n",
              "       'Generation', 'Type 1_Bug', 'Type 1_Dark', 'Type 1_Dragon',\n",
              "       'Type 1_Electric', 'Type 1_Fairy', 'Type 1_Fighting', 'Type 1_Fire',\n",
              "       'Type 1_Flying', 'Type 1_Ghost', 'Type 1_Grass', 'Type 1_Ground',\n",
              "       'Type 1_Ice', 'Type 1_Normal', 'Type 1_Poison', 'Type 1_Psychic',\n",
              "       'Type 1_Rock', 'Type 1_Steel', 'Type 1_Water', 'Type 2_Bug',\n",
              "       'Type 2_Dark', 'Type 2_Dragon', 'Type 2_Electric', 'Type 2_Fairy',\n",
              "       'Type 2_Fighting', 'Type 2_Fire', 'Type 2_Flying', 'Type 2_Ghost',\n",
              "       'Type 2_Grass', 'Type 2_Ground', 'Type 2_Ice', 'Type 2_Normal',\n",
              "       'Type 2_Poison', 'Type 2_Psychic', 'Type 2_Rock', 'Type 2_Steel',\n",
              "       'Type 2_Water'],\n",
              "      dtype='object')"
            ]
          },
          "metadata": {},
          "execution_count": 28
        }
      ]
    },
    {
      "cell_type": "code",
      "source": [
        "y = pokemon_df[\"Legendary\"].astype(int)  # convert True/False to 1/0"
      ],
      "metadata": {
        "id": "pNqiMzZG3ozE"
      },
      "execution_count": 29,
      "outputs": []
    },
    {
      "cell_type": "markdown",
      "source": [
        "### Train/Test"
      ],
      "metadata": {
        "id": "dusEgch1-LMj"
      }
    },
    {
      "cell_type": "markdown",
      "source": [
        "We do the training/testing dataset division before the feature selection, to avoid data leakage."
      ],
      "metadata": {
        "id": "AduFk_jb_DYK"
      }
    },
    {
      "cell_type": "code",
      "source": [
        "X_train, X_test, y_train, y_test = sk.model_selection.train_test_split(X, y, test_size=0.2, random_state=42)"
      ],
      "metadata": {
        "id": "4KN9jNCj-aJB"
      },
      "execution_count": 30,
      "outputs": []
    },
    {
      "cell_type": "markdown",
      "source": [
        "### Normalization"
      ],
      "metadata": {
        "id": "Lx1dqsr16kLa"
      }
    },
    {
      "cell_type": "code",
      "source": [
        "scaler = sk.preprocessing.StandardScaler()\n",
        "X_train_scaled = scaler.fit_transform(X_train)\n",
        "X_test_scaled = scaler.fit_transform(X_test)\n"
      ],
      "metadata": {
        "id": "wk0BXciV6o01"
      },
      "execution_count": 31,
      "outputs": []
    },
    {
      "cell_type": "markdown",
      "source": [
        "We scale since some algorithms (like kNN or neural networks) are sensitive to scale.\n",
        "Note that we scale AFTER dividing, so that there is no info leakage."
      ],
      "metadata": {
        "id": "QN5gV2Vx6rXm"
      }
    },
    {
      "cell_type": "markdown",
      "source": [
        "## Feature selection method"
      ],
      "metadata": {
        "id": "GOfN9BjBts8H"
      }
    },
    {
      "cell_type": "markdown",
      "source": [
        "### Main categories of feature selection"
      ],
      "metadata": {
        "id": "vaQ7k4tmnGOj"
      }
    },
    {
      "cell_type": "markdown",
      "source": [
        "\n",
        "> **Filter Methods**\n",
        "\n",
        "Evaluate each feature independently with target variable. Used in preprocessing phase. Fast and limited.\n",
        "\n",
        "> **Wrapper Methods**\n",
        "\n",
        "They use different combination of features and compute relation between these subset features and target variable and based on conclusion addition and removal of features are done.\n",
        "Slow but better.\n",
        "\n",
        "> **Embedded Methods**\n",
        "\n",
        "Combination. Good for only certain cases."
      ],
      "metadata": {
        "id": "36X8HYtmvEE3"
      }
    },
    {
      "cell_type": "markdown",
      "source": [
        "### Feature Selection Method to use: Forward selection\n"
      ],
      "metadata": {
        "id": "fEmViw4a_EDI"
      }
    },
    {
      "cell_type": "markdown",
      "source": [
        "Given that the dataset is not too big , we can have the luxury of using the more reliable **wrapper** methods.\n",
        "\n",
        "Also, since we have the answer data, we can use **supervised learning**\n",
        "\n",
        "We have the following options:\n",
        "* Fordward selection\n",
        "* Backward selection\n",
        "* Recursive elimination\n"
      ],
      "metadata": {
        "id": "XD7AkH4vEehF"
      }
    },
    {
      "cell_type": "markdown",
      "source": [
        "Even though Recursive Elimination is normally better than its greedy counterparts, since it only works well if the model can rank feature importance, it could work with decision trees but not with kNN or with neural networks.\n",
        "\n",
        "So we can work with backward elimination or fordward selection. Since we have a lot of categorical features that are not very useful by themselves, let's use Fordward Selection.\n",
        "\n"
      ],
      "metadata": {
        "id": "LOCPiafatwOP"
      }
    },
    {
      "cell_type": "markdown",
      "source": [
        "## Feature selection and model training"
      ],
      "metadata": {
        "id": "AQ1LM_S5BL9f"
      }
    },
    {
      "cell_type": "markdown",
      "source": [
        "### k-Nearest Neighbors"
      ],
      "metadata": {
        "id": "O7vL9qFhBPOc"
      }
    },
    {
      "cell_type": "markdown",
      "source": [
        "We make sure to use the scaled data"
      ],
      "metadata": {
        "id": "Fdfs0HgA28gy"
      }
    },
    {
      "cell_type": "code",
      "source": [
        "knn = sk.neighbors.KNeighborsClassifier(n_neighbors=5)\n",
        "\n",
        "selector = sk.feature_selection.SequentialFeatureSelector(knn, n_features_to_select='auto', direction='forward', cv=5)\n",
        "selector.fit(X_train_scaled, y_train)\n",
        "\n",
        "selected_feature_names = X.columns[selector.get_support()]\n",
        "print(\"Selected features:\\n\", selected_feature_names)"
      ],
      "metadata": {
        "colab": {
          "base_uri": "https://localhost:8080/"
        },
        "id": "1DCKMrU83a6Y",
        "outputId": "8dce3c5f-96db-43bf-c6ac-05778effc222"
      },
      "execution_count": 42,
      "outputs": [
        {
          "output_type": "stream",
          "name": "stdout",
          "text": [
            "Selected features:\n",
            " Index(['Total', 'Attack', 'Type 1_Bug', 'Type 1_Fairy', 'Type 1_Fighting',\n",
            "       'Type 1_Flying', 'Type 1_Ghost', 'Type 1_Ice', 'Type 1_Normal',\n",
            "       'Type 1_Poison', 'Type 1_Psychic', 'Type 1_Rock', 'Type 1_Water',\n",
            "       'Type 2_Bug', 'Type 2_Dark', 'Type 2_Dragon', 'Type 2_Fairy',\n",
            "       'Type 2_Grass', 'Type 2_Ground', 'Type 2_Normal', 'Type 2_Poison',\n",
            "       'Type 2_Rock'],\n",
            "      dtype='object')\n"
          ]
        }
      ]
    },
    {
      "cell_type": "code",
      "source": [
        "# Evaluate model on selected features\n",
        "X_train_sel = selector.transform(X_train_scaled)\n",
        "X_test_sel = selector.transform(X_test_scaled)\n",
        "\n",
        "knn.fit(X_train_sel, y_train)\n",
        "y_pred_knn = knn.predict(X_test_sel)"
      ],
      "metadata": {
        "id": "-lrvIzAa3XeJ"
      },
      "execution_count": 43,
      "outputs": []
    },
    {
      "cell_type": "markdown",
      "source": [
        "### k-Nearest Neighbors without scaling"
      ],
      "metadata": {
        "id": "RVt4IrEJFecB"
      }
    },
    {
      "cell_type": "code",
      "source": [
        "knn = sk.neighbors.KNeighborsClassifier(n_neighbors=5)\n",
        "\n",
        "selector = sk.feature_selection.SequentialFeatureSelector(knn, n_features_to_select='auto', direction='forward', cv=5)\n",
        "selector.fit(X_train, y_train)\n",
        "\n",
        "selected_feature_names = X.columns[selector.get_support()]\n",
        "print(\"Selected features:\\n\", selected_feature_names)"
      ],
      "metadata": {
        "colab": {
          "base_uri": "https://localhost:8080/"
        },
        "outputId": "e7d876ef-9d56-4d2d-fb31-affee2d98434",
        "id": "iFuaizvjFecF"
      },
      "execution_count": 44,
      "outputs": [
        {
          "output_type": "stream",
          "name": "stdout",
          "text": [
            "Selected features:\n",
            " Index(['Total', 'Generation', 'Type 1_Bug', 'Type 1_Dark', 'Type 1_Dragon',\n",
            "       'Type 1_Electric', 'Type 1_Fairy', 'Type 1_Fighting', 'Type 1_Flying',\n",
            "       'Type 1_Ghost', 'Type 1_Grass', 'Type 1_Ground', 'Type 1_Normal',\n",
            "       'Type 1_Poison', 'Type 1_Steel', 'Type 2_Bug', 'Type 2_Dark',\n",
            "       'Type 2_Dragon', 'Type 2_Electric', 'Type 2_Fairy', 'Type 2_Fighting',\n",
            "       'Type 2_Fire'],\n",
            "      dtype='object')\n"
          ]
        }
      ]
    },
    {
      "cell_type": "code",
      "source": [
        "# Evaluate model on selected features\n",
        "X_train_sel = selector.transform(X_train)\n",
        "X_test_sel = selector.transform(X_test)\n",
        "\n",
        "knn.fit(X_train_sel, y_train)\n",
        "y_pred_knn_not_scaled = knn.predict(X_test_sel)"
      ],
      "metadata": {
        "id": "__SCraZbFecF"
      },
      "execution_count": 45,
      "outputs": []
    },
    {
      "cell_type": "markdown",
      "source": [
        "### Arbres de decision"
      ],
      "metadata": {
        "id": "wKf7VClPBUjT"
      }
    },
    {
      "cell_type": "markdown",
      "source": [
        "Here we can use either scaled or unscaled data"
      ],
      "metadata": {
        "id": "ARdZyGB_7c85"
      }
    },
    {
      "cell_type": "code",
      "source": [
        "tree = sk.tree.DecisionTreeClassifier(random_state=42, max_depth=10)\n",
        "\n",
        "selector = sk.feature_selection.SequentialFeatureSelector(tree, n_features_to_select='auto', direction='forward', cv=5)\n",
        "selector.fit(X_train, y_train)\n",
        "\n",
        "selected_features = selector.get_support()\n",
        "selected_feature_names = X.columns[selected_features]\n",
        "\n",
        "print(\"Selected features:\\n\", selected_feature_names)"
      ],
      "metadata": {
        "colab": {
          "base_uri": "https://localhost:8080/"
        },
        "id": "PDV_mCWJBOis",
        "outputId": "2652175c-0c14-49fd-ec4d-6632331ade2e"
      },
      "execution_count": 35,
      "outputs": [
        {
          "output_type": "stream",
          "name": "stdout",
          "text": [
            "Selected features:\n",
            " Index(['Total', 'Sp. Atk', 'Type 1_Bug', 'Type 1_Dragon', 'Type 1_Electric',\n",
            "       'Type 1_Fairy', 'Type 1_Fighting', 'Type 1_Flying', 'Type 1_Ghost',\n",
            "       'Type 1_Grass', 'Type 1_Ground', 'Type 1_Normal', 'Type 1_Poison',\n",
            "       'Type 1_Psychic', 'Type 1_Rock', 'Type 2_Bug', 'Type 2_Dragon',\n",
            "       'Type 2_Electric', 'Type 2_Fairy', 'Type 2_Fire', 'Type 2_Ground',\n",
            "       'Type 2_Normal'],\n",
            "      dtype='object')\n"
          ]
        }
      ]
    },
    {
      "cell_type": "code",
      "source": [
        "# Train and evaluate model on selected features\n",
        "X_train_sel = selector.transform(X_train)\n",
        "X_test_sel = selector.transform(X_test)\n",
        "\n",
        "tree.fit(X_train_sel, y_train)\n",
        "y_pred_tree = tree.predict(X_test_sel)"
      ],
      "metadata": {
        "id": "HCGn6Pek7XRi"
      },
      "execution_count": 36,
      "outputs": []
    },
    {
      "cell_type": "markdown",
      "source": [
        "### Neural networks"
      ],
      "metadata": {
        "id": "ZgTmlXbY86j1"
      }
    },
    {
      "cell_type": "code",
      "source": [
        "mlp = sk.neural_network.MLPClassifier(hidden_layer_sizes=(50,), max_iter=100, random_state=42)\n",
        "\n",
        "selector = sk.feature_selection.SequentialFeatureSelector(mlp, n_features_to_select='auto', direction='forward', cv=5)\n",
        "selector.fit(X_train_scaled, y_train)\n",
        "\n",
        "selected_features = selector.get_support()\n",
        "selected_feature_names = X.columns[selected_features]\n",
        "\n",
        "print(\"Selected features (Neural Network):\")\n",
        "print(selected_feature_names)"
      ],
      "metadata": {
        "colab": {
          "base_uri": "https://localhost:8080/"
        },
        "id": "DFCwnYdV86PA",
        "outputId": "f96fa834-19dc-4ae6-d5e7-87b68f60106a"
      },
      "execution_count": 37,
      "outputs": [
        {
          "output_type": "stream",
          "name": "stdout",
          "text": [
            "Selected features (Neural Network):\n",
            "Index(['Total', 'HP', 'Attack', 'Defense', 'Sp. Atk', 'Sp. Def', 'Speed',\n",
            "       'Generation', 'Type 1_Bug', 'Type 1_Dark', 'Type 1_Dragon',\n",
            "       'Type 1_Electric', 'Type 1_Fairy', 'Type 1_Fighting', 'Type 1_Fire',\n",
            "       'Type 1_Flying', 'Type 1_Ghost', 'Type 1_Grass', 'Type 1_Ice',\n",
            "       'Type 1_Normal', 'Type 2_Grass', 'Type 2_Poison'],\n",
            "      dtype='object')\n"
          ]
        }
      ]
    },
    {
      "cell_type": "code",
      "source": [
        "# Train and evaluate model on selected features\n",
        "X_train_sel = selector.transform(X_train_scaled)\n",
        "X_test_sel = selector.transform(X_test)\n",
        "\n",
        "mlp.fit(X_train_sel, y_train)\n",
        "y_pred_neural = mlp.predict(X_test_sel)"
      ],
      "metadata": {
        "id": "s46lDNg19Uh8"
      },
      "execution_count": 38,
      "outputs": []
    },
    {
      "cell_type": "markdown",
      "source": [
        "**Notes**\n",
        "\n",
        "It is ok to take into account some of the columns result of the one-hot encoding, and not take into account others.\n",
        "\n",
        "Also, we do feature selection over the train dataset, as to prevent data leakage."
      ],
      "metadata": {
        "id": "wbckYF06XBUJ"
      }
    },
    {
      "cell_type": "markdown",
      "source": [
        "## Comparaison des performances des modèles"
      ],
      "metadata": {
        "id": "97hI5zyEavrF"
      }
    },
    {
      "cell_type": "code",
      "source": [
        "print(\"\\n Classification Report - kNN:\")\n",
        "print(sk.metrics.classification_report(y_test, y_pred_knn))"
      ],
      "metadata": {
        "colab": {
          "base_uri": "https://localhost:8080/"
        },
        "id": "1EnE2o3bA3lh",
        "outputId": "662ac66a-d2d2-4edf-842f-3e0ac692925c"
      },
      "execution_count": 39,
      "outputs": [
        {
          "output_type": "stream",
          "name": "stdout",
          "text": [
            "\n",
            " Classification Report - kNN:\n",
            "              precision    recall  f1-score   support\n",
            "\n",
            "           0       0.97      0.98      0.97       150\n",
            "           1       0.62      0.50      0.56        10\n",
            "\n",
            "    accuracy                           0.95       160\n",
            "   macro avg       0.80      0.74      0.76       160\n",
            "weighted avg       0.95      0.95      0.95       160\n",
            "\n"
          ]
        }
      ]
    },
    {
      "cell_type": "code",
      "source": [
        "print(\"\\n Classification Report - kNN not scaled:\")\n",
        "print(sk.metrics.classification_report(y_test, y_pred_knn_not_scaled))"
      ],
      "metadata": {
        "colab": {
          "base_uri": "https://localhost:8080/"
        },
        "outputId": "b738e3c0-f83f-4d36-a929-b32fd6dfbf9d",
        "id": "hB7_ZBIGF0FS"
      },
      "execution_count": 46,
      "outputs": [
        {
          "output_type": "stream",
          "name": "stdout",
          "text": [
            "\n",
            " Classification Report - kNN not scaled:\n",
            "              precision    recall  f1-score   support\n",
            "\n",
            "           0       1.00      0.99      0.99       150\n",
            "           1       0.83      1.00      0.91        10\n",
            "\n",
            "    accuracy                           0.99       160\n",
            "   macro avg       0.92      0.99      0.95       160\n",
            "weighted avg       0.99      0.99      0.99       160\n",
            "\n"
          ]
        }
      ]
    },
    {
      "cell_type": "code",
      "source": [
        "print(\"\\n Classification Report - Trees:\")\n",
        "print(sk.metrics.classification_report(y_test, y_pred_tree))"
      ],
      "metadata": {
        "colab": {
          "base_uri": "https://localhost:8080/"
        },
        "id": "I_CHIoFLA24q",
        "outputId": "d317bb57-fd6b-448f-8caf-c3b53f6f3155"
      },
      "execution_count": 40,
      "outputs": [
        {
          "output_type": "stream",
          "name": "stdout",
          "text": [
            "\n",
            " Classification Report - Trees:\n",
            "              precision    recall  f1-score   support\n",
            "\n",
            "           0       0.98      0.97      0.98       150\n",
            "           1       0.64      0.70      0.67        10\n",
            "\n",
            "    accuracy                           0.96       160\n",
            "   macro avg       0.81      0.84      0.82       160\n",
            "weighted avg       0.96      0.96      0.96       160\n",
            "\n"
          ]
        }
      ]
    },
    {
      "cell_type": "code",
      "source": [
        "print(\"\\n Classification Report - Neural networks:\")\n",
        "print(sk.metrics.classification_report(y_test, y_pred_neural))"
      ],
      "metadata": {
        "colab": {
          "base_uri": "https://localhost:8080/"
        },
        "id": "Ig5lJSE9Awg0",
        "outputId": "c8ec2b20-5f2d-4305-c5b2-574792087a7d"
      },
      "execution_count": 41,
      "outputs": [
        {
          "output_type": "stream",
          "name": "stdout",
          "text": [
            "\n",
            " Classification Report - Neural networks:\n",
            "              precision    recall  f1-score   support\n",
            "\n",
            "           0       0.94      1.00      0.97       150\n",
            "           1       0.00      0.00      0.00        10\n",
            "\n",
            "    accuracy                           0.94       160\n",
            "   macro avg       0.47      0.50      0.48       160\n",
            "weighted avg       0.88      0.94      0.91       160\n",
            "\n"
          ]
        }
      ]
    },
    {
      "cell_type": "markdown",
      "source": [
        "We can see that the unscaled kNN had the most accuracy of them all, which was not to be expected.\n",
        "\n",
        "Also the report of the neural network suggests that it learnt to always say the Pokemon is not Legendary."
      ],
      "metadata": {
        "id": "WGy0zKvsGp4q"
      }
    },
    {
      "cell_type": "markdown",
      "source": [
        "## To Do:\n",
        "\n",
        "* Impact de la normalisation des données sur les résultats.\n",
        "* Comparaison des performances des modèles: HERE\n",
        "* Utilisation IA\n",
        "* Report"
      ],
      "metadata": {
        "id": "M3u4pNo4UA__"
      }
    }
  ]
}