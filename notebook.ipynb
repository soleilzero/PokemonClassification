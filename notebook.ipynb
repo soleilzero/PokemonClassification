{
  "nbformat": 4,
  "nbformat_minor": 0,
  "metadata": {
    "colab": {
      "provenance": [],
      "authorship_tag": "ABX9TyNIekY4/3bh9V4bU4zf9swo"
    },
    "kernelspec": {
      "name": "python3",
      "display_name": "Python 3"
    },
    "language_info": {
      "name": "python"
    }
  },
  "cells": [
    {
      "cell_type": "markdown",
      "source": [
        "# Pokemon Classificator\n",
        "Workflow d'apprentissage supervisé avec scikit-learn"
      ],
      "metadata": {
        "id": "HJiL4KdUgJ3Y"
      }
    },
    {
      "cell_type": "code",
      "source": [
        "import pandas as pd\n",
        "import numpy as np\n",
        "import sklearn as sk"
      ],
      "metadata": {
        "id": "6s96o6WGq-9l"
      },
      "execution_count": null,
      "outputs": []
    },
    {
      "cell_type": "markdown",
      "source": [
        "## Project Statement"
      ],
      "metadata": {
        "id": "phzLxenAlJI7"
      }
    },
    {
      "cell_type": "markdown",
      "source": [
        "### Contexte :\n",
        "\n",
        "Les Pokémon sont des créatures aux caractéristiques variées, certaines étant\n",
        "classées comme \"légendaires\" en raison de leur rareté et de leur puissance. L’objectif est\n",
        "d’entraîner un modèle permettant de prédire si un Pokémon est légendaire ou non à\n",
        "partir de ses statistiques."
      ],
      "metadata": {
        "id": "ua5dJT38lHxa"
      }
    },
    {
      "cell_type": "markdown",
      "source": [
        "\n",
        "### Description des données :\n",
        "\n",
        "Le jeu de données comprend des informations sur 800\n",
        "Pokémon, incluant des caractéristiques comme les points de vie (HP), l’attaque, la\n",
        "défense, la vitesse, ainsi que des attributs catégoriels (type, génération, etc.).\n",
        "Pistes à explorer :\n",
        "* Sélection des meilleures caractéristiques pour la classification.\n",
        "* Comparaison des performances des modèles (arbres de décision, kNN, réseaux de\n",
        "neurones).\n",
        "* Impact de la normalisation des données sur les résultats.\n",
        "\n",
        "Lien du jeu de données : https://www.kaggle.com/abcsds/pokemon\n"
      ],
      "metadata": {
        "id": "8LD0o0NblmjP"
      }
    },
    {
      "cell_type": "markdown",
      "source": [
        "## Preprocessing"
      ],
      "metadata": {
        "id": "0C-MfzYZ3UJ9"
      }
    },
    {
      "cell_type": "markdown",
      "source": [
        "### Data importation"
      ],
      "metadata": {
        "id": "CZ6ygIoJnIC1"
      }
    },
    {
      "cell_type": "code",
      "source": [
        "pokemon_df = pd.read_csv(\"Pokemon.csv\")\n",
        "print(\"Pokemon data set size:\", pokemon_df.size)\n",
        "pokemon_df.head()"
      ],
      "metadata": {
        "colab": {
          "base_uri": "https://localhost:8080/",
          "height": 258
        },
        "id": "lrd4cyh7nLlD",
        "outputId": "68841b1f-062a-4e07-a014-f9d49691c3bb"
      },
      "execution_count": null,
      "outputs": [
        {
          "output_type": "stream",
          "name": "stdout",
          "text": [
            "Pokemon data set size: 10400\n"
          ]
        },
        {
          "output_type": "execute_result",
          "data": {
            "text/plain": [
              "   #                   Name Type 1  Type 2  Total  HP  Attack  Defense  \\\n",
              "0  1              Bulbasaur  Grass  Poison    318  45      49       49   \n",
              "1  2                Ivysaur  Grass  Poison    405  60      62       63   \n",
              "2  3               Venusaur  Grass  Poison    525  80      82       83   \n",
              "3  3  VenusaurMega Venusaur  Grass  Poison    625  80     100      123   \n",
              "4  4             Charmander   Fire     NaN    309  39      52       43   \n",
              "\n",
              "   Sp. Atk  Sp. Def  Speed  Generation  Legendary  \n",
              "0       65       65     45           1      False  \n",
              "1       80       80     60           1      False  \n",
              "2      100      100     80           1      False  \n",
              "3      122      120     80           1      False  \n",
              "4       60       50     65           1      False  "
            ],
            "text/html": [
              "\n",
              "  <div id=\"df-4f6085f4-8521-4c8c-992f-f5a691d6004e\" class=\"colab-df-container\">\n",
              "    <div>\n",
              "<style scoped>\n",
              "    .dataframe tbody tr th:only-of-type {\n",
              "        vertical-align: middle;\n",
              "    }\n",
              "\n",
              "    .dataframe tbody tr th {\n",
              "        vertical-align: top;\n",
              "    }\n",
              "\n",
              "    .dataframe thead th {\n",
              "        text-align: right;\n",
              "    }\n",
              "</style>\n",
              "<table border=\"1\" class=\"dataframe\">\n",
              "  <thead>\n",
              "    <tr style=\"text-align: right;\">\n",
              "      <th></th>\n",
              "      <th>#</th>\n",
              "      <th>Name</th>\n",
              "      <th>Type 1</th>\n",
              "      <th>Type 2</th>\n",
              "      <th>Total</th>\n",
              "      <th>HP</th>\n",
              "      <th>Attack</th>\n",
              "      <th>Defense</th>\n",
              "      <th>Sp. Atk</th>\n",
              "      <th>Sp. Def</th>\n",
              "      <th>Speed</th>\n",
              "      <th>Generation</th>\n",
              "      <th>Legendary</th>\n",
              "    </tr>\n",
              "  </thead>\n",
              "  <tbody>\n",
              "    <tr>\n",
              "      <th>0</th>\n",
              "      <td>1</td>\n",
              "      <td>Bulbasaur</td>\n",
              "      <td>Grass</td>\n",
              "      <td>Poison</td>\n",
              "      <td>318</td>\n",
              "      <td>45</td>\n",
              "      <td>49</td>\n",
              "      <td>49</td>\n",
              "      <td>65</td>\n",
              "      <td>65</td>\n",
              "      <td>45</td>\n",
              "      <td>1</td>\n",
              "      <td>False</td>\n",
              "    </tr>\n",
              "    <tr>\n",
              "      <th>1</th>\n",
              "      <td>2</td>\n",
              "      <td>Ivysaur</td>\n",
              "      <td>Grass</td>\n",
              "      <td>Poison</td>\n",
              "      <td>405</td>\n",
              "      <td>60</td>\n",
              "      <td>62</td>\n",
              "      <td>63</td>\n",
              "      <td>80</td>\n",
              "      <td>80</td>\n",
              "      <td>60</td>\n",
              "      <td>1</td>\n",
              "      <td>False</td>\n",
              "    </tr>\n",
              "    <tr>\n",
              "      <th>2</th>\n",
              "      <td>3</td>\n",
              "      <td>Venusaur</td>\n",
              "      <td>Grass</td>\n",
              "      <td>Poison</td>\n",
              "      <td>525</td>\n",
              "      <td>80</td>\n",
              "      <td>82</td>\n",
              "      <td>83</td>\n",
              "      <td>100</td>\n",
              "      <td>100</td>\n",
              "      <td>80</td>\n",
              "      <td>1</td>\n",
              "      <td>False</td>\n",
              "    </tr>\n",
              "    <tr>\n",
              "      <th>3</th>\n",
              "      <td>3</td>\n",
              "      <td>VenusaurMega Venusaur</td>\n",
              "      <td>Grass</td>\n",
              "      <td>Poison</td>\n",
              "      <td>625</td>\n",
              "      <td>80</td>\n",
              "      <td>100</td>\n",
              "      <td>123</td>\n",
              "      <td>122</td>\n",
              "      <td>120</td>\n",
              "      <td>80</td>\n",
              "      <td>1</td>\n",
              "      <td>False</td>\n",
              "    </tr>\n",
              "    <tr>\n",
              "      <th>4</th>\n",
              "      <td>4</td>\n",
              "      <td>Charmander</td>\n",
              "      <td>Fire</td>\n",
              "      <td>NaN</td>\n",
              "      <td>309</td>\n",
              "      <td>39</td>\n",
              "      <td>52</td>\n",
              "      <td>43</td>\n",
              "      <td>60</td>\n",
              "      <td>50</td>\n",
              "      <td>65</td>\n",
              "      <td>1</td>\n",
              "      <td>False</td>\n",
              "    </tr>\n",
              "  </tbody>\n",
              "</table>\n",
              "</div>\n",
              "    <div class=\"colab-df-buttons\">\n",
              "\n",
              "  <div class=\"colab-df-container\">\n",
              "    <button class=\"colab-df-convert\" onclick=\"convertToInteractive('df-4f6085f4-8521-4c8c-992f-f5a691d6004e')\"\n",
              "            title=\"Convert this dataframe to an interactive table.\"\n",
              "            style=\"display:none;\">\n",
              "\n",
              "  <svg xmlns=\"http://www.w3.org/2000/svg\" height=\"24px\" viewBox=\"0 -960 960 960\">\n",
              "    <path d=\"M120-120v-720h720v720H120Zm60-500h600v-160H180v160Zm220 220h160v-160H400v160Zm0 220h160v-160H400v160ZM180-400h160v-160H180v160Zm440 0h160v-160H620v160ZM180-180h160v-160H180v160Zm440 0h160v-160H620v160Z\"/>\n",
              "  </svg>\n",
              "    </button>\n",
              "\n",
              "  <style>\n",
              "    .colab-df-container {\n",
              "      display:flex;\n",
              "      gap: 12px;\n",
              "    }\n",
              "\n",
              "    .colab-df-convert {\n",
              "      background-color: #E8F0FE;\n",
              "      border: none;\n",
              "      border-radius: 50%;\n",
              "      cursor: pointer;\n",
              "      display: none;\n",
              "      fill: #1967D2;\n",
              "      height: 32px;\n",
              "      padding: 0 0 0 0;\n",
              "      width: 32px;\n",
              "    }\n",
              "\n",
              "    .colab-df-convert:hover {\n",
              "      background-color: #E2EBFA;\n",
              "      box-shadow: 0px 1px 2px rgba(60, 64, 67, 0.3), 0px 1px 3px 1px rgba(60, 64, 67, 0.15);\n",
              "      fill: #174EA6;\n",
              "    }\n",
              "\n",
              "    .colab-df-buttons div {\n",
              "      margin-bottom: 4px;\n",
              "    }\n",
              "\n",
              "    [theme=dark] .colab-df-convert {\n",
              "      background-color: #3B4455;\n",
              "      fill: #D2E3FC;\n",
              "    }\n",
              "\n",
              "    [theme=dark] .colab-df-convert:hover {\n",
              "      background-color: #434B5C;\n",
              "      box-shadow: 0px 1px 3px 1px rgba(0, 0, 0, 0.15);\n",
              "      filter: drop-shadow(0px 1px 2px rgba(0, 0, 0, 0.3));\n",
              "      fill: #FFFFFF;\n",
              "    }\n",
              "  </style>\n",
              "\n",
              "    <script>\n",
              "      const buttonEl =\n",
              "        document.querySelector('#df-4f6085f4-8521-4c8c-992f-f5a691d6004e button.colab-df-convert');\n",
              "      buttonEl.style.display =\n",
              "        google.colab.kernel.accessAllowed ? 'block' : 'none';\n",
              "\n",
              "      async function convertToInteractive(key) {\n",
              "        const element = document.querySelector('#df-4f6085f4-8521-4c8c-992f-f5a691d6004e');\n",
              "        const dataTable =\n",
              "          await google.colab.kernel.invokeFunction('convertToInteractive',\n",
              "                                                    [key], {});\n",
              "        if (!dataTable) return;\n",
              "\n",
              "        const docLinkHtml = 'Like what you see? Visit the ' +\n",
              "          '<a target=\"_blank\" href=https://colab.research.google.com/notebooks/data_table.ipynb>data table notebook</a>'\n",
              "          + ' to learn more about interactive tables.';\n",
              "        element.innerHTML = '';\n",
              "        dataTable['output_type'] = 'display_data';\n",
              "        await google.colab.output.renderOutput(dataTable, element);\n",
              "        const docLink = document.createElement('div');\n",
              "        docLink.innerHTML = docLinkHtml;\n",
              "        element.appendChild(docLink);\n",
              "      }\n",
              "    </script>\n",
              "  </div>\n",
              "\n",
              "\n",
              "<div id=\"df-4e7aec5b-50d5-48ea-9d5b-be311b65312f\">\n",
              "  <button class=\"colab-df-quickchart\" onclick=\"quickchart('df-4e7aec5b-50d5-48ea-9d5b-be311b65312f')\"\n",
              "            title=\"Suggest charts\"\n",
              "            style=\"display:none;\">\n",
              "\n",
              "<svg xmlns=\"http://www.w3.org/2000/svg\" height=\"24px\"viewBox=\"0 0 24 24\"\n",
              "     width=\"24px\">\n",
              "    <g>\n",
              "        <path d=\"M19 3H5c-1.1 0-2 .9-2 2v14c0 1.1.9 2 2 2h14c1.1 0 2-.9 2-2V5c0-1.1-.9-2-2-2zM9 17H7v-7h2v7zm4 0h-2V7h2v10zm4 0h-2v-4h2v4z\"/>\n",
              "    </g>\n",
              "</svg>\n",
              "  </button>\n",
              "\n",
              "<style>\n",
              "  .colab-df-quickchart {\n",
              "      --bg-color: #E8F0FE;\n",
              "      --fill-color: #1967D2;\n",
              "      --hover-bg-color: #E2EBFA;\n",
              "      --hover-fill-color: #174EA6;\n",
              "      --disabled-fill-color: #AAA;\n",
              "      --disabled-bg-color: #DDD;\n",
              "  }\n",
              "\n",
              "  [theme=dark] .colab-df-quickchart {\n",
              "      --bg-color: #3B4455;\n",
              "      --fill-color: #D2E3FC;\n",
              "      --hover-bg-color: #434B5C;\n",
              "      --hover-fill-color: #FFFFFF;\n",
              "      --disabled-bg-color: #3B4455;\n",
              "      --disabled-fill-color: #666;\n",
              "  }\n",
              "\n",
              "  .colab-df-quickchart {\n",
              "    background-color: var(--bg-color);\n",
              "    border: none;\n",
              "    border-radius: 50%;\n",
              "    cursor: pointer;\n",
              "    display: none;\n",
              "    fill: var(--fill-color);\n",
              "    height: 32px;\n",
              "    padding: 0;\n",
              "    width: 32px;\n",
              "  }\n",
              "\n",
              "  .colab-df-quickchart:hover {\n",
              "    background-color: var(--hover-bg-color);\n",
              "    box-shadow: 0 1px 2px rgba(60, 64, 67, 0.3), 0 1px 3px 1px rgba(60, 64, 67, 0.15);\n",
              "    fill: var(--button-hover-fill-color);\n",
              "  }\n",
              "\n",
              "  .colab-df-quickchart-complete:disabled,\n",
              "  .colab-df-quickchart-complete:disabled:hover {\n",
              "    background-color: var(--disabled-bg-color);\n",
              "    fill: var(--disabled-fill-color);\n",
              "    box-shadow: none;\n",
              "  }\n",
              "\n",
              "  .colab-df-spinner {\n",
              "    border: 2px solid var(--fill-color);\n",
              "    border-color: transparent;\n",
              "    border-bottom-color: var(--fill-color);\n",
              "    animation:\n",
              "      spin 1s steps(1) infinite;\n",
              "  }\n",
              "\n",
              "  @keyframes spin {\n",
              "    0% {\n",
              "      border-color: transparent;\n",
              "      border-bottom-color: var(--fill-color);\n",
              "      border-left-color: var(--fill-color);\n",
              "    }\n",
              "    20% {\n",
              "      border-color: transparent;\n",
              "      border-left-color: var(--fill-color);\n",
              "      border-top-color: var(--fill-color);\n",
              "    }\n",
              "    30% {\n",
              "      border-color: transparent;\n",
              "      border-left-color: var(--fill-color);\n",
              "      border-top-color: var(--fill-color);\n",
              "      border-right-color: var(--fill-color);\n",
              "    }\n",
              "    40% {\n",
              "      border-color: transparent;\n",
              "      border-right-color: var(--fill-color);\n",
              "      border-top-color: var(--fill-color);\n",
              "    }\n",
              "    60% {\n",
              "      border-color: transparent;\n",
              "      border-right-color: var(--fill-color);\n",
              "    }\n",
              "    80% {\n",
              "      border-color: transparent;\n",
              "      border-right-color: var(--fill-color);\n",
              "      border-bottom-color: var(--fill-color);\n",
              "    }\n",
              "    90% {\n",
              "      border-color: transparent;\n",
              "      border-bottom-color: var(--fill-color);\n",
              "    }\n",
              "  }\n",
              "</style>\n",
              "\n",
              "  <script>\n",
              "    async function quickchart(key) {\n",
              "      const quickchartButtonEl =\n",
              "        document.querySelector('#' + key + ' button');\n",
              "      quickchartButtonEl.disabled = true;  // To prevent multiple clicks.\n",
              "      quickchartButtonEl.classList.add('colab-df-spinner');\n",
              "      try {\n",
              "        const charts = await google.colab.kernel.invokeFunction(\n",
              "            'suggestCharts', [key], {});\n",
              "      } catch (error) {\n",
              "        console.error('Error during call to suggestCharts:', error);\n",
              "      }\n",
              "      quickchartButtonEl.classList.remove('colab-df-spinner');\n",
              "      quickchartButtonEl.classList.add('colab-df-quickchart-complete');\n",
              "    }\n",
              "    (() => {\n",
              "      let quickchartButtonEl =\n",
              "        document.querySelector('#df-4e7aec5b-50d5-48ea-9d5b-be311b65312f button');\n",
              "      quickchartButtonEl.style.display =\n",
              "        google.colab.kernel.accessAllowed ? 'block' : 'none';\n",
              "    })();\n",
              "  </script>\n",
              "</div>\n",
              "\n",
              "    </div>\n",
              "  </div>\n"
            ],
            "application/vnd.google.colaboratory.intrinsic+json": {
              "type": "dataframe",
              "variable_name": "pokemon_df",
              "summary": "{\n  \"name\": \"pokemon_df\",\n  \"rows\": 800,\n  \"fields\": [\n    {\n      \"column\": \"#\",\n      \"properties\": {\n        \"dtype\": \"number\",\n        \"std\": 208,\n        \"min\": 1,\n        \"max\": 721,\n        \"num_unique_values\": 721,\n        \"samples\": [\n          260,\n          659,\n          78\n        ],\n        \"semantic_type\": \"\",\n        \"description\": \"\"\n      }\n    },\n    {\n      \"column\": \"Name\",\n      \"properties\": {\n        \"dtype\": \"string\",\n        \"num_unique_values\": 800,\n        \"samples\": [\n          \"Hydreigon\",\n          \"Beheeyem\",\n          \"Growlithe\"\n        ],\n        \"semantic_type\": \"\",\n        \"description\": \"\"\n      }\n    },\n    {\n      \"column\": \"Type 1\",\n      \"properties\": {\n        \"dtype\": \"category\",\n        \"num_unique_values\": 18,\n        \"samples\": [\n          \"Grass\",\n          \"Fire\",\n          \"Fairy\"\n        ],\n        \"semantic_type\": \"\",\n        \"description\": \"\"\n      }\n    },\n    {\n      \"column\": \"Type 2\",\n      \"properties\": {\n        \"dtype\": \"category\",\n        \"num_unique_values\": 18,\n        \"samples\": [\n          \"Poison\",\n          \"Flying\",\n          \"Steel\"\n        ],\n        \"semantic_type\": \"\",\n        \"description\": \"\"\n      }\n    },\n    {\n      \"column\": \"Total\",\n      \"properties\": {\n        \"dtype\": \"number\",\n        \"std\": 119,\n        \"min\": 180,\n        \"max\": 780,\n        \"num_unique_values\": 200,\n        \"samples\": [\n          700,\n          349,\n          505\n        ],\n        \"semantic_type\": \"\",\n        \"description\": \"\"\n      }\n    },\n    {\n      \"column\": \"HP\",\n      \"properties\": {\n        \"dtype\": \"number\",\n        \"std\": 25,\n        \"min\": 1,\n        \"max\": 255,\n        \"num_unique_values\": 94,\n        \"samples\": [\n          106,\n          81,\n          170\n        ],\n        \"semantic_type\": \"\",\n        \"description\": \"\"\n      }\n    },\n    {\n      \"column\": \"Attack\",\n      \"properties\": {\n        \"dtype\": \"number\",\n        \"std\": 32,\n        \"min\": 5,\n        \"max\": 190,\n        \"num_unique_values\": 111,\n        \"samples\": [\n          79,\n          63,\n          52\n        ],\n        \"semantic_type\": \"\",\n        \"description\": \"\"\n      }\n    },\n    {\n      \"column\": \"Defense\",\n      \"properties\": {\n        \"dtype\": \"number\",\n        \"std\": 31,\n        \"min\": 5,\n        \"max\": 230,\n        \"num_unique_values\": 103,\n        \"samples\": [\n          20,\n          88,\n          23\n        ],\n        \"semantic_type\": \"\",\n        \"description\": \"\"\n      }\n    },\n    {\n      \"column\": \"Sp. Atk\",\n      \"properties\": {\n        \"dtype\": \"number\",\n        \"std\": 32,\n        \"min\": 10,\n        \"max\": 194,\n        \"num_unique_values\": 105,\n        \"samples\": [\n          58,\n          150,\n          160\n        ],\n        \"semantic_type\": \"\",\n        \"description\": \"\"\n      }\n    },\n    {\n      \"column\": \"Sp. Def\",\n      \"properties\": {\n        \"dtype\": \"number\",\n        \"std\": 27,\n        \"min\": 20,\n        \"max\": 230,\n        \"num_unique_values\": 92,\n        \"samples\": [\n          154,\n          45,\n          44\n        ],\n        \"semantic_type\": \"\",\n        \"description\": \"\"\n      }\n    },\n    {\n      \"column\": \"Speed\",\n      \"properties\": {\n        \"dtype\": \"number\",\n        \"std\": 29,\n        \"min\": 5,\n        \"max\": 180,\n        \"num_unique_values\": 108,\n        \"samples\": [\n          113,\n          50,\n          100\n        ],\n        \"semantic_type\": \"\",\n        \"description\": \"\"\n      }\n    },\n    {\n      \"column\": \"Generation\",\n      \"properties\": {\n        \"dtype\": \"number\",\n        \"std\": 1,\n        \"min\": 1,\n        \"max\": 6,\n        \"num_unique_values\": 6,\n        \"samples\": [\n          1,\n          2,\n          6\n        ],\n        \"semantic_type\": \"\",\n        \"description\": \"\"\n      }\n    },\n    {\n      \"column\": \"Legendary\",\n      \"properties\": {\n        \"dtype\": \"boolean\",\n        \"num_unique_values\": 2,\n        \"samples\": [\n          true,\n          false\n        ],\n        \"semantic_type\": \"\",\n        \"description\": \"\"\n      }\n    }\n  ]\n}"
            }
          },
          "metadata": {},
          "execution_count": 5
        }
      ]
    },
    {
      "cell_type": "code",
      "source": [
        "pokemon_df[\"Type 1\"].unique()"
      ],
      "metadata": {
        "colab": {
          "base_uri": "https://localhost:8080/"
        },
        "id": "qTxt17ycIQKc",
        "outputId": "7932bad9-6328-4426-c437-77d560d87e77"
      },
      "execution_count": null,
      "outputs": [
        {
          "output_type": "execute_result",
          "data": {
            "text/plain": [
              "array(['Grass', 'Fire', 'Water', 'Bug', 'Normal', 'Poison', 'Electric',\n",
              "       'Ground', 'Fairy', 'Fighting', 'Psychic', 'Rock', 'Ghost', 'Ice',\n",
              "       'Dragon', 'Dark', 'Steel', 'Flying'], dtype=object)"
            ]
          },
          "metadata": {},
          "execution_count": 6
        }
      ]
    },
    {
      "cell_type": "code",
      "source": [
        "pokemon_df[\"Type 2\"].unique()"
      ],
      "metadata": {
        "colab": {
          "base_uri": "https://localhost:8080/"
        },
        "id": "Phv5hvHuIfG6",
        "outputId": "9e66e99c-1964-4e89-bdaa-f9cb20369c90"
      },
      "execution_count": null,
      "outputs": [
        {
          "output_type": "execute_result",
          "data": {
            "text/plain": [
              "array(['Poison', nan, 'Flying', 'Dragon', 'Ground', 'Fairy', 'Grass',\n",
              "       'Fighting', 'Psychic', 'Steel', 'Ice', 'Rock', 'Dark', 'Water',\n",
              "       'Electric', 'Fire', 'Ghost', 'Bug', 'Normal'], dtype=object)"
            ]
          },
          "metadata": {},
          "execution_count": 7
        }
      ]
    },
    {
      "cell_type": "markdown",
      "source": [
        "### Drop or Clean Irrelevant Columns"
      ],
      "metadata": {
        "id": "JzB9YCBK3ZyO"
      }
    },
    {
      "cell_type": "markdown",
      "source": [
        "Drop unnecesary **#** and **Legendary** columns from the explicit variable, as well as the \"Name\" since there are too many different ones\n",
        "\n",
        "\\# (index or ID)\n",
        "Name (string, probably not useful unless you use NLP)"
      ],
      "metadata": {
        "id": "kzmarZrprIvV"
      }
    },
    {
      "cell_type": "code",
      "source": [
        "X = pokemon_df.drop([\"#\", \"Name\", \"Legendary\"], axis=1) # Axis=1 allows to drop columns"
      ],
      "metadata": {
        "id": "BEWDM-eJIo9h"
      },
      "execution_count": null,
      "outputs": []
    },
    {
      "cell_type": "markdown",
      "source": [
        "### Encode Categorical Features"
      ],
      "metadata": {
        "id": "q2gtY3Xb_sFe"
      }
    },
    {
      "cell_type": "markdown",
      "source": [
        "Use One-Hot Encoding for Type 1 and Type 2.\n",
        "We could use LabelEncoder, but one-hot is safer for tree-based or NN models."
      ],
      "metadata": {
        "id": "vGRNLGd049eI"
      }
    },
    {
      "cell_type": "code",
      "source": [
        "X = pd.get_dummies(X)"
      ],
      "metadata": {
        "id": "zBzYq7mg491a"
      },
      "execution_count": null,
      "outputs": []
    },
    {
      "cell_type": "markdown",
      "source": [
        "These are the resulting columns:"
      ],
      "metadata": {
        "id": "kwgL1fXU5pLF"
      }
    },
    {
      "cell_type": "code",
      "source": [
        "X.columns"
      ],
      "metadata": {
        "colab": {
          "base_uri": "https://localhost:8080/"
        },
        "id": "MlWJc27Mq_l-",
        "outputId": "3ddf95ba-cc06-4972-eab2-83b5529ced71"
      },
      "execution_count": null,
      "outputs": [
        {
          "output_type": "execute_result",
          "data": {
            "text/plain": [
              "Index(['Total', 'HP', 'Attack', 'Defense', 'Sp. Atk', 'Sp. Def', 'Speed',\n",
              "       'Generation', 'Type 1_Bug', 'Type 1_Dark', 'Type 1_Dragon',\n",
              "       'Type 1_Electric', 'Type 1_Fairy', 'Type 1_Fighting', 'Type 1_Fire',\n",
              "       'Type 1_Flying', 'Type 1_Ghost', 'Type 1_Grass', 'Type 1_Ground',\n",
              "       'Type 1_Ice', 'Type 1_Normal', 'Type 1_Poison', 'Type 1_Psychic',\n",
              "       'Type 1_Rock', 'Type 1_Steel', 'Type 1_Water', 'Type 2_Bug',\n",
              "       'Type 2_Dark', 'Type 2_Dragon', 'Type 2_Electric', 'Type 2_Fairy',\n",
              "       'Type 2_Fighting', 'Type 2_Fire', 'Type 2_Flying', 'Type 2_Ghost',\n",
              "       'Type 2_Grass', 'Type 2_Ground', 'Type 2_Ice', 'Type 2_Normal',\n",
              "       'Type 2_Poison', 'Type 2_Psychic', 'Type 2_Rock', 'Type 2_Steel',\n",
              "       'Type 2_Water'],\n",
              "      dtype='object')"
            ]
          },
          "metadata": {},
          "execution_count": 9
        }
      ]
    },
    {
      "cell_type": "code",
      "source": [
        "y = pokemon_df[\"Legendary\"].astype(int)  # convert True/False to 1/0"
      ],
      "metadata": {
        "id": "pNqiMzZG3ozE"
      },
      "execution_count": null,
      "outputs": []
    },
    {
      "cell_type": "markdown",
      "source": [
        "### Normalization"
      ],
      "metadata": {
        "id": "Lx1dqsr16kLa"
      }
    },
    {
      "cell_type": "code",
      "source": [
        "scaler = sklearn.preprocessing.StandardScaler()\n",
        "X_scaled = scaler.fit_transform(X)"
      ],
      "metadata": {
        "id": "wk0BXciV6o01"
      },
      "execution_count": null,
      "outputs": []
    },
    {
      "cell_type": "markdown",
      "source": [
        "Some algorithms (like kNN or neural networks) are sensitive to scale."
      ],
      "metadata": {
        "id": "QN5gV2Vx6rXm"
      }
    },
    {
      "cell_type": "markdown",
      "source": [
        "### Train/Test"
      ],
      "metadata": {
        "id": "dusEgch1-LMj"
      }
    },
    {
      "cell_type": "markdown",
      "source": [
        "We do the training/testing dataset division before the feature selection, to avoid data leakage."
      ],
      "metadata": {
        "id": "AduFk_jb_DYK"
      }
    },
    {
      "cell_type": "code",
      "source": [
        "X_train, X_test, y_train, y_test = sk.model_selection.train_test_split(X_scaled, y, test_size=0.2, random_state=42)"
      ],
      "metadata": {
        "id": "4KN9jNCj-aJB"
      },
      "execution_count": null,
      "outputs": []
    },
    {
      "cell_type": "markdown",
      "source": [
        "## Feature selection\n",
        "\n",
        "* Basic: Sélection basique, peu d'arg, pas d'innovation\n",
        "* Inter: Choix pertinent et adaptée, avec optimisation et argumentations\n",
        "* Eleve: Original et optimale des features. Bien argumentée. Innovant et parfaitement adaptées au probleme.\n"
      ],
      "metadata": {
        "id": "GOfN9BjBts8H"
      }
    },
    {
      "cell_type": "markdown",
      "source": [
        "#### Main categories of feature selection:"
      ],
      "metadata": {
        "id": "vaQ7k4tmnGOj"
      }
    },
    {
      "cell_type": "markdown",
      "source": [
        "\n",
        "> **Filter Methods**\n",
        "\n",
        "Evaluate each feature independently with target variable. Used in preprocessing phase. Fast and limited.\n",
        "\n",
        "> **Wrapper Methods**\n",
        "\n",
        "They use different combination of features and compute relation between these subset features and target variable and based on conclusion addition and removal of features are done.\n",
        "Slow but better.\n",
        "\n",
        "> **Embedded Methods**\n",
        "\n",
        "Combination. Good for only certain cases."
      ],
      "metadata": {
        "id": "36X8HYtmvEE3"
      }
    },
    {
      "cell_type": "markdown",
      "source": [
        "### Feature Selection Method\n",
        "\n"
      ],
      "metadata": {
        "id": "fEmViw4a_EDI"
      }
    },
    {
      "cell_type": "markdown",
      "source": [
        "Given that the dataset is not too big and the **wrapper** methods are more reliable, lets use those.\n",
        "\n",
        "Also, since we have the answer data, we can use **supervised learning**\n",
        "\n",
        "We have the following options:\n",
        "* Fordward selection\n",
        "* Backward selection\n",
        "* Recursive elimination"
      ],
      "metadata": {
        "id": "XD7AkH4vEehF"
      }
    },
    {
      "cell_type": "markdown",
      "source": [
        "*should I translate the categorial data into numbers? Taking into account that I should use the names as is, since they are no categories*"
      ],
      "metadata": {
        "id": "rQxUvlSWIyGn"
      }
    },
    {
      "cell_type": "markdown",
      "source": [
        "Even if we could output numbers, we are still gonna use the results to classify between discrete values."
      ],
      "metadata": {
        "id": "wOs7xGzrJGwv"
      }
    },
    {
      "cell_type": "markdown",
      "source": [
        "The features are mixed: some have categorical data and others have numerical data.\n",
        "\n",
        "The output variable is also categorical, since we wish to classify into 2 options."
      ],
      "metadata": {
        "id": "3UrC-KnOK5qW"
      }
    },
    {
      "cell_type": "markdown",
      "source": [
        "https://machinelearningmastery.com/feature-selection-with-real-and-categorical-data/ recomends using the following methods\n",
        "\n",
        "\n",
        "*   Chi-Squared test\n",
        "*   Mutual Information\n",
        "\n"
      ],
      "metadata": {
        "id": "UZ9hbvgXLeBv"
      }
    },
    {
      "cell_type": "markdown",
      "source": [
        "Are they right? Why? How could I know which is the ideal one?\n",
        "\n",
        "For now lets just use any of them, let's begin with Chi-Squared Test"
      ],
      "metadata": {
        "id": "v_JcPOHvLyuw"
      }
    },
    {
      "cell_type": "markdown",
      "source": [
        "### Chi-Squared Test"
      ],
      "metadata": {
        "id": "hDUX23NtmjuC"
      }
    },
    {
      "cell_type": "code",
      "source": [
        "chi2 = sk.feature_selection.chi2\n",
        "\n",
        "chi2_stats, p_values = chi2(X, y)"
      ],
      "metadata": {
        "id": "OF3e-87XmhGc"
      },
      "execution_count": null,
      "outputs": []
    },
    {
      "cell_type": "code",
      "source": [
        "print(np.matrix([p_values, X.columns]).transpose())\n",
        "print()\n",
        "print(np.matrix([chi2_stats, X.columns]).transpose())"
      ],
      "metadata": {
        "colab": {
          "base_uri": "https://localhost:8080/"
        },
        "id": "VYweg2hvxNsM",
        "outputId": "0b260cbc-f5b2-4373-acf4-4de96c8732a9"
      },
      "execution_count": null,
      "outputs": [
        {
          "output_type": "stream",
          "name": "stdout",
          "text": [
            "[[0.0 'Total']\n",
            " [1.7322356821731213e-124 'HP']\n",
            " [2.080439825756548e-278 'Attack']\n",
            " [6.441190768273053e-141 'Defense']\n",
            " [0.0 'Sp. Atk']\n",
            " [7.205246491320064e-250 'Sp. Def']\n",
            " [2.0899917647147156e-231 'Speed']\n",
            " [0.03985114934635663 'Generation']\n",
            " [0.013502585724311459 'Type 1_Bug']\n",
            " [0.7330961793501931 'Type 1_Dark']\n",
            " [1.1873314411477657e-09 'Type 1_Dragon']\n",
            " [0.814592900000255 'Type 1_Electric']\n",
            " [0.7350355429506508 'Type 1_Fairy']\n",
            " [0.12228912645290166 'Type 1_Fighting']\n",
            " [0.6940539602117852 'Type 1_Fire']\n",
            " [0.0021744421624509806 'Type 1_Flying']\n",
            " [0.6978611744786973 'Type 1_Ghost']\n",
            " [0.2397228150260804 'Type 1_Grass']\n",
            " [0.36503027183830394 'Type 1_Ground']\n",
            " [0.9702015901694437 'Type 1_Ice']\n",
            " [0.0274910221085786 'Type 1_Normal']\n",
            " [0.1155818999513828 'Type 1_Poison']\n",
            " [5.575974025954529e-06 'Type 1_Psychic']\n",
            " [0.814592900000255 'Type 1_Rock']\n",
            " [0.20327061696778514 'Type 1_Steel']\n",
            " [0.07776465501983229 'Type 1_Water']\n",
            " [0.6064979888020764 'Type 2_Bug']\n",
            " [0.6089935509092999 'Type 2_Dark']\n",
            " [0.02859183018308652 'Type 2_Dragon']\n",
            " [0.44380316168128675 'Type 2_Electric']\n",
            " [0.9202116773235597 'Type 2_Fairy']\n",
            " [0.17546663526971745 'Type 2_Fighting']\n",
            " [0.032390512031044226 'Type 2_Fire']\n",
            " [0.05713842267968769 'Type 2_Flying']\n",
            " [0.8930057332119603 'Type 2_Ghost']\n",
            " [0.13704009229411065 'Type 2_Grass']\n",
            " [0.2540098659139219 'Type 2_Ground']\n",
            " [0.06847183671541643 'Type 2_Ice']\n",
            " [0.5520027628423692 'Type 2_Normal']\n",
            " [0.08291569283536514 'Type 2_Poison']\n",
            " [0.13957892550245024 'Type 2_Psychic']\n",
            " [0.26583846390326216 'Type 2_Rock']\n",
            " [0.5388784543572149 'Type 2_Steel']\n",
            " [0.8930057332119603 'Type 2_Water']]\n",
            "\n",
            "[[6653.3351254911995 'Total']\n",
            " [563.1536063792503 'HP']\n",
            " [1271.171306034965 'Attack']\n",
            " [638.6894490793522 'Defense']\n",
            " [2367.537383347482 'Sp. Atk']\n",
            " [1139.8509413484742 'Sp. Def']\n",
            " [1054.9053122836258 'Speed']\n",
            " [4.224210736164736 'Generation']\n",
            " [6.102040816326531 'Type 1_Bug']\n",
            " [0.11628770614945742 'Type 1_Dark']\n",
            " [36.99005756148613 'Type 1_Dragon']\n",
            " [0.054992626421197746 'Type 1_Electric']\n",
            " [0.1145381229414844 'Type 1_Fairy']\n",
            " [2.3877551020408165 'Type 1_Fighting']\n",
            " [0.15473171517127535 'Type 1_Fire']\n",
            " [9.396127681841968 'Type 1_Flying']\n",
            " [0.15070643642072223 'Type 1_Ghost']\n",
            " [1.3822232189579127 'Type 1_Grass']\n",
            " [0.8205128205128203 'Type 1_Ground']\n",
            " [0.0013954299668585163 'Type 1_Ice']\n",
            " [4.859705891775865 'Type 1_Normal']\n",
            " [2.4761904761904763 'Type 1_Poison']\n",
            " [20.62850349316514 'Type 1_Psychic']\n",
            " [0.054992626421197746 'Type 1_Rock']\n",
            " [1.618718142527666 'Type 1_Steel']\n",
            " [3.1110114375420506 'Type 1_Water']\n",
            " [0.26530612244897966 'Type 2_Bug']\n",
            " [0.26164311878597596 'Type 2_Dark']\n",
            " [4.792022792022789 'Type 2_Dragon']\n",
            " [0.5864294435723004 'Type 2_Electric']\n",
            " [0.010033444816053467 'Type 2_Fairy']\n",
            " [1.835607615827395 'Type 2_Fighting']\n",
            " [4.577708006279434 'Type 2_Fire']\n",
            " [3.6185567010309256 'Type 2_Flying']\n",
            " [0.01809075278463035 'Type 2_Ghost']\n",
            " [2.2108843537414966 'Type 2_Grass']\n",
            " [1.3011138521342605 'Type 2_Ground']\n",
            " [3.319279360095687 'Type 2_Ice']\n",
            " [0.3537414965986395 'Type 2_Normal']\n",
            " [3.006802721088436 'Type 2_Poison']\n",
            " [2.1825951825951826 'Type 2_Psychic']\n",
            " [1.2380952380952381 'Type 2_Rock']\n",
            " [0.3776223776223778 'Type 2_Steel']\n",
            " [0.01809075278463035 'Type 2_Water']]\n"
          ]
        }
      ]
    },
    {
      "cell_type": "markdown",
      "source": [
        "So, the problem here is that the importance of the types is being evaluated for each value of the type, so it is not reliable.\n",
        "\n",
        "How to fix this?\n",
        "Cant we use all the features??"
      ],
      "metadata": {
        "id": "p_uYFQ_pxgpw"
      }
    },
    {
      "cell_type": "code",
      "source": [
        "SelectKBest = sk.feature_selection.SelectKBest\n",
        "chi2_selector = SelectKBest(chi2, k=10)\n",
        "X_kbest = chi2_selector.fit_transform(X, y)\n",
        "print(X_kbest)\n",
        "\n",
        "print('Original number of features:', X.shape)\n",
        "print('Reduced number of features:', X_kbest.shape)"
      ],
      "metadata": {
        "colab": {
          "base_uri": "https://localhost:8080/"
        },
        "id": "OPD5_aluyVN7",
        "outputId": "dbeba050-cbdb-4c53-f061-499a3db8e8f2"
      },
      "execution_count": null,
      "outputs": [
        {
          "output_type": "stream",
          "name": "stdout",
          "text": [
            "[[318  45  49 ...   0   0   0]\n",
            " [405  60  62 ...   0   0   0]\n",
            " [525  80  82 ...   0   0   0]\n",
            " ...\n",
            " [600  80 110 ...   0   0   1]\n",
            " [680  80 160 ...   0   0   1]\n",
            " [600  80 110 ...   0   0   0]]\n",
            "Original number of features: (800, 44)\n",
            "Reduced number of features: (800, 10)\n"
          ]
        }
      ]
    },
    {
      "cell_type": "markdown",
      "source": [
        "How do we know which ones were chosen?\n",
        "Can we call that function on the data with the column names?"
      ],
      "metadata": {
        "id": "1IiH4LEmze8L"
      }
    },
    {
      "cell_type": "markdown",
      "source": [
        "### Recursive Feature Elimination (RFE)"
      ],
      "metadata": {
        "id": "qF9GuKt08HB5"
      }
    },
    {
      "cell_type": "code",
      "source": [
        "from sklearn.feature_selection import RFE\n",
        "from sklearn.ensemble import RandomForestClassifier\n",
        "\n",
        "model = RandomForestClassifier()\n",
        "rfe = RFE(model, n_features_to_select=10)\n",
        "rfe.fit(X, y)\n",
        "\n",
        "selected_features = X.columns[rfe.support_]\n",
        "print(selected_features)\n"
      ],
      "metadata": {
        "colab": {
          "base_uri": "https://localhost:8080/"
        },
        "id": "jlK2Kr5e_Nrs",
        "outputId": "8ad56a8e-f90a-4411-a8e8-fb7987dcc3fc"
      },
      "execution_count": null,
      "outputs": [
        {
          "output_type": "stream",
          "name": "stdout",
          "text": [
            "Index(['Total', 'HP', 'Attack', 'Defense', 'Sp. Atk', 'Sp. Def', 'Speed',\n",
            "       'Generation', 'Type 1_Psychic', 'Type 1_Water'],\n",
            "      dtype='object')\n"
          ]
        }
      ]
    }
  ]
}