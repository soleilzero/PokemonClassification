{
  "nbformat": 4,
  "nbformat_minor": 0,
  "metadata": {
    "colab": {
      "provenance": [],
      "authorship_tag": "ABX9TyNyIhIjKPDuBrQo48q3D2qU"
    },
    "kernelspec": {
      "name": "python3",
      "display_name": "Python 3"
    },
    "language_info": {
      "name": "python"
    }
  },
  "cells": [
    {
      "cell_type": "markdown",
      "source": [
        "# Pokemon Classificator\n",
        "Workflow d'apprentissage supervisé avec scikit-learn"
      ],
      "metadata": {
        "id": "HJiL4KdUgJ3Y"
      }
    },
    {
      "cell_type": "markdown",
      "source": [
        "## Project Statement"
      ],
      "metadata": {
        "id": "phzLxenAlJI7"
      }
    },
    {
      "cell_type": "markdown",
      "source": [
        "### Contexte :\n",
        "\n",
        "Les Pokémon sont des créatures aux caractéristiques variées, certaines étant\n",
        "classées comme \"légendaires\" en raison de leur rareté et de leur puissance. L’objectif est\n",
        "d’entraîner un modèle permettant de prédire si un Pokémon est légendaire ou non à\n",
        "partir de ses statistiques."
      ],
      "metadata": {
        "id": "ua5dJT38lHxa"
      }
    },
    {
      "cell_type": "markdown",
      "source": [
        "\n",
        "### Description des données :\n",
        "\n",
        "Le jeu de données comprend des informations sur 800\n",
        "Pokémon, incluant des caractéristiques comme les points de vie (HP), l’attaque, la\n",
        "défense, la vitesse, ainsi que des attributs catégoriels (type, génération, etc.).\n",
        "Pistes à explorer :\n",
        "* Sélection des meilleures caractéristiques pour la classification.\n",
        "* Comparaison des performances des modèles (arbres de décision, kNN, réseaux de\n",
        "neurones).\n",
        "* Impact de la normalisation des données sur les résultats.\n",
        "\n",
        "Lien du jeu de données : https://www.kaggle.com/abcsds/pokemon\n"
      ],
      "metadata": {
        "id": "8LD0o0NblmjP"
      }
    }
  ]
}